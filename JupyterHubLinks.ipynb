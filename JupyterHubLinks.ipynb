{
 "cells": [
  {
   "cell_type": "markdown",
   "metadata": {},
   "source": [
    "# Génération automatique des liens JupyterHub UTLN, NBViewer Github et Binder"
   ]
  },
  {
   "cell_type": "markdown",
   "metadata": {},
   "source": [
    "<b>ADAPTER LE TABLEAU CI-DESSOUS</b> qu décrit les notebooks."
   ]
  },
  {
   "cell_type": "code",
   "execution_count": 448,
   "metadata": {},
   "outputs": [],
   "source": [
    "notebooks=[\n",
    "    # Les profils disponibles\n",
    "    # pythonUTLN, datascience, javaUTLN, dbUTLN\n",
    "    {\"title\":\"Python - JHub Intro\"  ,\"profile\":\"pythonUTLN\", \"repo_url\":\"https://github.com/ebpro/JupyterHubUTLNIntro\" , \"branch\":\"develop\", \"url_path\":\"JupyterHub UTLN.ipynb\"},\n",
    "    # Il est possible d'avoir plusieurs Notebooks dans le même repository\n",
    "    {\"title\":\"Java - Installation\"  ,\"profile\":\"javaUTLN\"   , \"repo_url\":\"https://github.com/ebpro/javanotebook-base\"   , \"branch\":\"develop\", \"url_path\":\"01.01_InstallationCompilation.ipynb\"},\n",
    "    {\"title\":\"Java - Maven\"         ,\"profile\":\"javaUTLN\"   , \"repo_url\":\"https://github.com/ebpro/javanotebook-base\"   , \"branch\":\"develop\", \"url_path\":\"01.02_MavenIntroduction.ipynb\"},\n",
    "    {\"title\":\"Java - Après Java 8\"  ,\"profile\":\"javaUTLN\"   , \"repo_url\":\"https://github.com/ebpro/javanotebook-base\"   , \"branch\":\"develop\", \"url_path\":\"01.07_After Java 8.ipynb\"},    \n",
    "    \n",
    "    {\"title\":\"Java - JDBC\"          ,\"profile\":\"javaUTLN\"   , \"repo_url\":\"https://github.com/ebpro/javanotebook-jdbc\"   , \"branch\":\"develop\", \"url_path\":\"IntroductionJDBC.ipynb\"},\n",
    "    {\"title\":\"Java - REST/JAXRS\"    ,\"profile\":\"javaUTLN\"   , \"repo_url\":\"https://github.com/ebpro/javanotebook-jaxrs\"  , \"branch\":\"develop\", \"url_path\":\"jaxrs.ipynb\"},\n",
    "    \n",
    "    {\"title\":\"Database - Sandox\"    ,\"profile\":\"dbUTLN\"     , \"repo_url\":\"https://github.com/ebpro/SQLNotebookDemo\"     , \"branch\":\"develop\", \"url_path\":\"SQL sandbox.ipynb \"}\n",
    "    ]"
   ]
  },
  {
   "cell_type": "code",
   "execution_count": 447,
   "metadata": {
    "jupyter": {
     "source_hidden": true
    }
   },
   "outputs": [],
   "source": [
    "import os\n",
    "from ipywidgets import interact\n",
    "from urllib.parse import urlunparse, urlparse, urlencode, parse_qs, parse_qsl, quote\n",
    "from IPython.display import Markdown\n",
    "\n",
    "jupyterEnvs={'pythonUTLN'  :{'url':\"https://github.com/ebpro/jupyterutln-default\"        , 'branch':'develop'},\n",
    "           # 'datascience\" :'                                                    , 'branch':'develop'},\n",
    "             'javaUTLN'    :{'url':\"https://github.com/ebpro/JupyterJava\", 'branch':'develop'},\n",
    "             'dbUTLN'      :{'url':\"https://github.com/ebpro/JupyterDB\"          , 'branch':'develop'}\n",
    "        }\n",
    "\n",
    "#@interact\n",
    "def make_launch_link(repo_url, profile='pythonUTLN',branch='develop', url_path=''):\n",
    "    \"\"\"\n",
    "    Generate a launch request which clones and merges source files from a git-based\n",
    "    repository.\n",
    "\n",
    "    Args:\n",
    "      profile (str): the Jupyter Hub Profile.\n",
    "      branch (str): git repo branch\n",
    "      hub_url (str): full hub url which needs to include scheme (http or https) and netloc (full domain).\n",
    "      repo_url (str): full git repo url which needs to include scheme (http or https), netloc (full domain) and path.\n",
    "      url_path (str): a path to redirect users to after the workspace has successfully spawned (started).\n",
    "\n",
    "    Returns:\n",
    "      The URLs\n",
    "    \"\"\"\n",
    "\n",
    "    hub_url='https://jovem.univ-tln.fr'\n",
    "    \n",
    "    ghaccount,ghrepo = urlparse(repo_url).path.split('/')[-2:]\n",
    "    \n",
    "    gitpull_params = {\"repo\":repo_url,\"urlpath\":\"lab/tree/work/assignments/\"+ghrepo+\"/\"+url_path, \"branch\":branch}    \n",
    "    encoded_gitpull_params = urlencode(gitpull_params)\n",
    "    \n",
    "    gitpull_url=f'{hub_url}/hub/user-redirect/git-pull?{encoded_gitpull_params}'\n",
    "\n",
    "    with_profile=f'{hub_url}/hub/spawn?{urlencode({\"profile\":profile,\"next\":gitpull_url})}'\n",
    "\n",
    "    binder_gitpull_params = {\"repo\":repo_url,\"urlpath\":\"lab/tree/\"+ghrepo+\"/\"+url_path, \"branch\":branch}    \n",
    "    binder_ghaccount,binder_ghrepo = urlparse(jupyterEnvs[profile][\"url\"]).path.split('/')[-2:]\n",
    "    binder_branch=jupyterEnvs[profile][\"branch\"]\n",
    "    binder_url=f'https://mybinder.org/v2/gh/{binder_ghaccount}/{binder_ghrepo}/{binder_branch}?urlpath=git-pull%3F{quote(urlencode(binder_gitpull_params))}'\n",
    "\n",
    "    return {'utln':with_profile,'binder':binder_url,'static':repo_url+'/blob/'+branch+'/'+url_path}    "
   ]
  },
  {
   "cell_type": "code",
   "execution_count": 449,
   "metadata": {
    "collapsed": true,
    "jupyter": {
     "outputs_hidden": true,
     "source_hidden": true
    }
   },
   "outputs": [
    {
     "data": {
      "text/plain": [
       "{'utln': 'https://jovem.univ-tln.fr/hub/spawn?profile=pythonUTLN&next=https%3A%2F%2Fjovem.univ-tln.fr%2Fhub%2Fuser-redirect%2Fgit-pull%3Frepo%3Dhttps%253A%252F%252Fgithub.com%252Febpro%252FJupyterHubUTLNIntro%26urlpath%3Dlab%252Ftree%252Fwork%252Fassignments%252FJupyterHubUTLNIntro%252FJupyterHub%2BUTLN.ipynb%26branch%3Ddevelop',\n",
       " 'binder': 'https://mybinder.org/v2/gh/ebpro/jupyterutln-default/develop?urlpath=git-pull%3Frepo%3Dhttps%253A%252F%252Fgithub.com%252Febpro%252FJupyterHubUTLNIntro%26urlpath%3Dlab%252Ftree%252FJupyterHubUTLNIntro%252FJupyterHub%2BUTLN.ipynb%26branch%3Ddevelop',\n",
       " 'static': 'https://github.com/ebpro/JupyterHubUTLNIntro/blob/develop/JupyterHub UTLN.ipynb'}"
      ]
     },
     "execution_count": 449,
     "metadata": {},
     "output_type": "execute_result"
    }
   ],
   "source": [
    "make_launch_link(notebooks[0]['repo_url'],notebooks[0]['profile'], notebooks[0]['branch'],notebooks[0]['url_path'])"
   ]
  },
  {
   "cell_type": "code",
   "execution_count": 453,
   "metadata": {
    "jupyter": {
     "source_hidden": true
    }
   },
   "outputs": [
    {
     "name": "stdout",
     "output_type": "stream",
     "text": [
      "The jinja_yaml_magic extension is already loaded. To reload it, use:\n",
      "  %reload_ext jinja_yaml_magic\n"
     ]
    }
   ],
   "source": [
    "%load_ext jinja_yaml_magic\n",
    "%reload_ext jinja_yaml_magic"
   ]
  },
  {
   "cell_type": "markdown",
   "metadata": {},
   "source": [
    "Les liens sont présentés via un template Jinja :"
   ]
  },
  {
   "cell_type": "code",
   "execution_count": 456,
   "metadata": {},
   "outputs": [],
   "source": [
    "%%jinja_template MyNotebooks\n",
    "<link href=\"https://cdn.jsdelivr.net/npm/bootstrap@5.1.3/dist/css/bootstrap.min.css\" rel=\"stylesheet\" integrity=\"sha384-1BmE4kWBq78iYhFldvKuhfTAU6auU8tT94WrHftjDbrCEXSU1oBoqyl2QvZ6jIW3\" crossorigin=\"anonymous\">\n",
    "<table class=\"table table-hover\">\n",
    " <thead>\n",
    "  <tr>\n",
    "    <th scope=\"col\">Notebook</th>\n",
    "    <th scope=\"col\">Statique</th>\n",
    "    <th scope=\"col\" colspan=\"2\">Dynamique</th>\n",
    "  </tr> \n",
    "  <tr>\n",
    "    <th scope=\"col\"></th>\n",
    "    <th scope=\"col\"></th>\n",
    "    <th scope=\"col\">Binder</th>\n",
    "    <th scope=\"col\">UTLN</th>\n",
    "  </tr> \n",
    " </thead>\n",
    " <tbody>\n",
    "  {% for nb in notebooks %}\n",
    "  {% set links=make_launch_link(nb.repo_url,nb.profile, nb.branch,nb.url_path) %}\n",
    "  <tr>\n",
    "    <th scope=\"row\">{{ nb[\"title\"] }}</th>\n",
    "    <td scope=\"row\"><a href=\"{{ links.static }}\"><img  width=\"100\" alt=\"nbviewer\" src=\"https://user-images.githubusercontent.com/2791223/29387450-e5654c72-8294-11e7-95e4-090419520edb.png\"/></a>\n",
    "    <td scope=\"row\"><a href=\"{{ links.binder }}\"><img  width=\"64\" alt=\"Binder\" src=\"https://binderhub.readthedocs.io/en/latest/_static/logo.png\"/></a>\n",
    "    <td scope=\"row\"><a href=\"{{ links.utln }}\"><img  width=\"64\" alt=\"Université de Toulon - UTLN\" src=\"https://www.univ-tln.fr/squelettes/images/logos/logo-utln.png\"/></a>\n",
    "  </tr>\n",
    "  {%- endfor %}\n",
    " </tbody>\n",
    "<table>"
   ]
  },
  {
   "cell_type": "markdown",
   "metadata": {},
   "source": [
    "## Le rendu"
   ]
  },
  {
   "cell_type": "code",
   "execution_count": 457,
   "metadata": {},
   "outputs": [
    {
     "data": {
      "text/html": [
       "<link href=\"https://cdn.jsdelivr.net/npm/bootstrap@5.1.3/dist/css/bootstrap.min.css\" rel=\"stylesheet\" integrity=\"sha384-1BmE4kWBq78iYhFldvKuhfTAU6auU8tT94WrHftjDbrCEXSU1oBoqyl2QvZ6jIW3\" crossorigin=\"anonymous\">\n",
       "<table class=\"table table-hover\">\n",
       " <thead>\n",
       "  <tr>\n",
       "    <th scope=\"col\">Notebook</th>\n",
       "    <th scope=\"col\">Statique</th>\n",
       "    <th scope=\"col\" colspan=\"2\">Dynamique</th>\n",
       "  </tr> \n",
       "  <tr>\n",
       "    <th scope=\"col\"></th>\n",
       "    <th scope=\"col\"></th>\n",
       "    <th scope=\"col\">Binder</th>\n",
       "    <th scope=\"col\">UTLN</th>\n",
       "  </tr> \n",
       " </thead>\n",
       " <tbody>\n",
       "  \n",
       "  \n",
       "  <tr>\n",
       "    <th scope=\"row\">Python - JHub Intro</th>\n",
       "    <td scope=\"row\"><a href=\"https://github.com/ebpro/JupyterHubUTLNIntro/blob/develop/JupyterHub UTLN.ipynb\"><img  width=\"100\" alt=\"nbviewer\" src=\"https://user-images.githubusercontent.com/2791223/29387450-e5654c72-8294-11e7-95e4-090419520edb.png\"/></a>\n",
       "    <td scope=\"row\"><a href=\"https://mybinder.org/v2/gh/ebpro/jupyterutln-default/develop?urlpath=git-pull%3Frepo%3Dhttps%253A%252F%252Fgithub.com%252Febpro%252FJupyterHubUTLNIntro%26urlpath%3Dlab%252Ftree%252FJupyterHubUTLNIntro%252FJupyterHub%2BUTLN.ipynb%26branch%3Ddevelop\"><img  width=\"64\" alt=\"Binder\" src=\"https://binderhub.readthedocs.io/en/latest/_static/logo.png\"/></a>\n",
       "    <td scope=\"row\"><a href=\"https://jovem.univ-tln.fr/hub/spawn?profile=pythonUTLN&next=https%3A%2F%2Fjovem.univ-tln.fr%2Fhub%2Fuser-redirect%2Fgit-pull%3Frepo%3Dhttps%253A%252F%252Fgithub.com%252Febpro%252FJupyterHubUTLNIntro%26urlpath%3Dlab%252Ftree%252Fwork%252Fassignments%252FJupyterHubUTLNIntro%252FJupyterHub%2BUTLN.ipynb%26branch%3Ddevelop\"><img  width=\"64\" alt=\"Université de Toulon - UTLN\" src=\"https://www.univ-tln.fr/squelettes/images/logos/logo-utln.png\"/></a>\n",
       "  </tr>\n",
       "  \n",
       "  <tr>\n",
       "    <th scope=\"row\">Java - Installation</th>\n",
       "    <td scope=\"row\"><a href=\"https://github.com/ebpro/javanotebook-base/blob/develop/01.01_InstallationCompilation.ipynb\"><img  width=\"100\" alt=\"nbviewer\" src=\"https://user-images.githubusercontent.com/2791223/29387450-e5654c72-8294-11e7-95e4-090419520edb.png\"/></a>\n",
       "    <td scope=\"row\"><a href=\"https://mybinder.org/v2/gh/ebpro/JupyterJava/develop?urlpath=git-pull%3Frepo%3Dhttps%253A%252F%252Fgithub.com%252Febpro%252Fjavanotebook-base%26urlpath%3Dlab%252Ftree%252Fjavanotebook-base%252F01.01_InstallationCompilation.ipynb%26branch%3Ddevelop\"><img  width=\"64\" alt=\"Binder\" src=\"https://binderhub.readthedocs.io/en/latest/_static/logo.png\"/></a>\n",
       "    <td scope=\"row\"><a href=\"https://jovem.univ-tln.fr/hub/spawn?profile=javaUTLN&next=https%3A%2F%2Fjovem.univ-tln.fr%2Fhub%2Fuser-redirect%2Fgit-pull%3Frepo%3Dhttps%253A%252F%252Fgithub.com%252Febpro%252Fjavanotebook-base%26urlpath%3Dlab%252Ftree%252Fwork%252Fassignments%252Fjavanotebook-base%252F01.01_InstallationCompilation.ipynb%26branch%3Ddevelop\"><img  width=\"64\" alt=\"Université de Toulon - UTLN\" src=\"https://www.univ-tln.fr/squelettes/images/logos/logo-utln.png\"/></a>\n",
       "  </tr>\n",
       "  \n",
       "  <tr>\n",
       "    <th scope=\"row\">Java - Maven</th>\n",
       "    <td scope=\"row\"><a href=\"https://github.com/ebpro/javanotebook-base/blob/develop/01.02_MavenIntroduction.ipynb\"><img  width=\"100\" alt=\"nbviewer\" src=\"https://user-images.githubusercontent.com/2791223/29387450-e5654c72-8294-11e7-95e4-090419520edb.png\"/></a>\n",
       "    <td scope=\"row\"><a href=\"https://mybinder.org/v2/gh/ebpro/JupyterJava/develop?urlpath=git-pull%3Frepo%3Dhttps%253A%252F%252Fgithub.com%252Febpro%252Fjavanotebook-base%26urlpath%3Dlab%252Ftree%252Fjavanotebook-base%252F01.02_MavenIntroduction.ipynb%26branch%3Ddevelop\"><img  width=\"64\" alt=\"Binder\" src=\"https://binderhub.readthedocs.io/en/latest/_static/logo.png\"/></a>\n",
       "    <td scope=\"row\"><a href=\"https://jovem.univ-tln.fr/hub/spawn?profile=javaUTLN&next=https%3A%2F%2Fjovem.univ-tln.fr%2Fhub%2Fuser-redirect%2Fgit-pull%3Frepo%3Dhttps%253A%252F%252Fgithub.com%252Febpro%252Fjavanotebook-base%26urlpath%3Dlab%252Ftree%252Fwork%252Fassignments%252Fjavanotebook-base%252F01.02_MavenIntroduction.ipynb%26branch%3Ddevelop\"><img  width=\"64\" alt=\"Université de Toulon - UTLN\" src=\"https://www.univ-tln.fr/squelettes/images/logos/logo-utln.png\"/></a>\n",
       "  </tr>\n",
       "  \n",
       "  <tr>\n",
       "    <th scope=\"row\">Java - Après Java 8</th>\n",
       "    <td scope=\"row\"><a href=\"https://github.com/ebpro/javanotebook-base/blob/develop/01.07_After Java 8.ipynb\"><img  width=\"100\" alt=\"nbviewer\" src=\"https://user-images.githubusercontent.com/2791223/29387450-e5654c72-8294-11e7-95e4-090419520edb.png\"/></a>\n",
       "    <td scope=\"row\"><a href=\"https://mybinder.org/v2/gh/ebpro/JupyterJava/develop?urlpath=git-pull%3Frepo%3Dhttps%253A%252F%252Fgithub.com%252Febpro%252Fjavanotebook-base%26urlpath%3Dlab%252Ftree%252Fjavanotebook-base%252F01.07_After%2BJava%2B8.ipynb%26branch%3Ddevelop\"><img  width=\"64\" alt=\"Binder\" src=\"https://binderhub.readthedocs.io/en/latest/_static/logo.png\"/></a>\n",
       "    <td scope=\"row\"><a href=\"https://jovem.univ-tln.fr/hub/spawn?profile=javaUTLN&next=https%3A%2F%2Fjovem.univ-tln.fr%2Fhub%2Fuser-redirect%2Fgit-pull%3Frepo%3Dhttps%253A%252F%252Fgithub.com%252Febpro%252Fjavanotebook-base%26urlpath%3Dlab%252Ftree%252Fwork%252Fassignments%252Fjavanotebook-base%252F01.07_After%2BJava%2B8.ipynb%26branch%3Ddevelop\"><img  width=\"64\" alt=\"Université de Toulon - UTLN\" src=\"https://www.univ-tln.fr/squelettes/images/logos/logo-utln.png\"/></a>\n",
       "  </tr>\n",
       "  \n",
       "  <tr>\n",
       "    <th scope=\"row\">Java - JDBC</th>\n",
       "    <td scope=\"row\"><a href=\"https://github.com/ebpro/javanotebook-jdbc/blob/develop/IntroductionJDBC.ipynb\"><img  width=\"100\" alt=\"nbviewer\" src=\"https://user-images.githubusercontent.com/2791223/29387450-e5654c72-8294-11e7-95e4-090419520edb.png\"/></a>\n",
       "    <td scope=\"row\"><a href=\"https://mybinder.org/v2/gh/ebpro/JupyterJava/develop?urlpath=git-pull%3Frepo%3Dhttps%253A%252F%252Fgithub.com%252Febpro%252Fjavanotebook-jdbc%26urlpath%3Dlab%252Ftree%252Fjavanotebook-jdbc%252FIntroductionJDBC.ipynb%26branch%3Ddevelop\"><img  width=\"64\" alt=\"Binder\" src=\"https://binderhub.readthedocs.io/en/latest/_static/logo.png\"/></a>\n",
       "    <td scope=\"row\"><a href=\"https://jovem.univ-tln.fr/hub/spawn?profile=javaUTLN&next=https%3A%2F%2Fjovem.univ-tln.fr%2Fhub%2Fuser-redirect%2Fgit-pull%3Frepo%3Dhttps%253A%252F%252Fgithub.com%252Febpro%252Fjavanotebook-jdbc%26urlpath%3Dlab%252Ftree%252Fwork%252Fassignments%252Fjavanotebook-jdbc%252FIntroductionJDBC.ipynb%26branch%3Ddevelop\"><img  width=\"64\" alt=\"Université de Toulon - UTLN\" src=\"https://www.univ-tln.fr/squelettes/images/logos/logo-utln.png\"/></a>\n",
       "  </tr>\n",
       "  \n",
       "  <tr>\n",
       "    <th scope=\"row\">Java - REST/JAXRS</th>\n",
       "    <td scope=\"row\"><a href=\"https://github.com/ebpro/javanotebook-jaxrs/blob/develop/jaxrs.ipynb\"><img  width=\"100\" alt=\"nbviewer\" src=\"https://user-images.githubusercontent.com/2791223/29387450-e5654c72-8294-11e7-95e4-090419520edb.png\"/></a>\n",
       "    <td scope=\"row\"><a href=\"https://mybinder.org/v2/gh/ebpro/JupyterJava/develop?urlpath=git-pull%3Frepo%3Dhttps%253A%252F%252Fgithub.com%252Febpro%252Fjavanotebook-jaxrs%26urlpath%3Dlab%252Ftree%252Fjavanotebook-jaxrs%252Fjaxrs.ipynb%26branch%3Ddevelop\"><img  width=\"64\" alt=\"Binder\" src=\"https://binderhub.readthedocs.io/en/latest/_static/logo.png\"/></a>\n",
       "    <td scope=\"row\"><a href=\"https://jovem.univ-tln.fr/hub/spawn?profile=javaUTLN&next=https%3A%2F%2Fjovem.univ-tln.fr%2Fhub%2Fuser-redirect%2Fgit-pull%3Frepo%3Dhttps%253A%252F%252Fgithub.com%252Febpro%252Fjavanotebook-jaxrs%26urlpath%3Dlab%252Ftree%252Fwork%252Fassignments%252Fjavanotebook-jaxrs%252Fjaxrs.ipynb%26branch%3Ddevelop\"><img  width=\"64\" alt=\"Université de Toulon - UTLN\" src=\"https://www.univ-tln.fr/squelettes/images/logos/logo-utln.png\"/></a>\n",
       "  </tr>\n",
       "  \n",
       "  <tr>\n",
       "    <th scope=\"row\">Database - Sandox</th>\n",
       "    <td scope=\"row\"><a href=\"https://github.com/ebpro/SQLNotebookDemo/blob/develop/SQL sandbox.ipynb \"><img  width=\"100\" alt=\"nbviewer\" src=\"https://user-images.githubusercontent.com/2791223/29387450-e5654c72-8294-11e7-95e4-090419520edb.png\"/></a>\n",
       "    <td scope=\"row\"><a href=\"https://mybinder.org/v2/gh/ebpro/JupyterDB/develop?urlpath=git-pull%3Frepo%3Dhttps%253A%252F%252Fgithub.com%252Febpro%252FSQLNotebookDemo%26urlpath%3Dlab%252Ftree%252FSQLNotebookDemo%252FSQL%2Bsandbox.ipynb%2B%26branch%3Ddevelop\"><img  width=\"64\" alt=\"Binder\" src=\"https://binderhub.readthedocs.io/en/latest/_static/logo.png\"/></a>\n",
       "    <td scope=\"row\"><a href=\"https://jovem.univ-tln.fr/hub/spawn?profile=dbUTLN&next=https%3A%2F%2Fjovem.univ-tln.fr%2Fhub%2Fuser-redirect%2Fgit-pull%3Frepo%3Dhttps%253A%252F%252Fgithub.com%252Febpro%252FSQLNotebookDemo%26urlpath%3Dlab%252Ftree%252Fwork%252Fassignments%252FSQLNotebookDemo%252FSQL%2Bsandbox.ipynb%2B%26branch%3Ddevelop\"><img  width=\"64\" alt=\"Université de Toulon - UTLN\" src=\"https://www.univ-tln.fr/squelettes/images/logos/logo-utln.png\"/></a>\n",
       "  </tr>\n",
       " </tbody>\n",
       "<table>"
      ],
      "text/plain": [
       "<IPython.core.display.HTML object>"
      ]
     },
     "execution_count": 457,
     "metadata": {},
     "output_type": "execute_result"
    }
   ],
   "source": [
    "%jinja --template MyNotebooks --html"
   ]
  },
  {
   "cell_type": "markdown",
   "metadata": {},
   "source": [
    "## Le source HTML"
   ]
  },
  {
   "cell_type": "code",
   "execution_count": 458,
   "metadata": {},
   "outputs": [
    {
     "data": {
      "text/plain": [
       "<link href=\"https://cdn.jsdelivr.net/npm/bootstrap@5.1.3/dist/css/bootstrap.min.css\" rel=\"stylesheet\" integrity=\"sha384-1BmE4kWBq78iYhFldvKuhfTAU6auU8tT94WrHftjDbrCEXSU1oBoqyl2QvZ6jIW3\" crossorigin=\"anonymous\">\n",
       "<table class=\"table table-hover\">\n",
       " <thead>\n",
       "  <tr>\n",
       "    <th scope=\"col\">Notebook</th>\n",
       "    <th scope=\"col\">Statique</th>\n",
       "    <th scope=\"col\" colspan=\"2\">Dynamique</th>\n",
       "  </tr> \n",
       "  <tr>\n",
       "    <th scope=\"col\"></th>\n",
       "    <th scope=\"col\"></th>\n",
       "    <th scope=\"col\">Binder</th>\n",
       "    <th scope=\"col\">UTLN</th>\n",
       "  </tr> \n",
       " </thead>\n",
       " <tbody>\n",
       "  \n",
       "  \n",
       "  <tr>\n",
       "    <th scope=\"row\">Python - JHub Intro</th>\n",
       "    <td scope=\"row\"><a href=\"https://github.com/ebpro/JupyterHubUTLNIntro/blob/develop/JupyterHub UTLN.ipynb\"><img  width=\"100\" alt=\"nbviewer\" src=\"https://user-images.githubusercontent.com/2791223/29387450-e5654c72-8294-11e7-95e4-090419520edb.png\"/></a>\n",
       "    <td scope=\"row\"><a href=\"https://mybinder.org/v2/gh/ebpro/jupyterutln-default/develop?urlpath=git-pull%3Frepo%3Dhttps%253A%252F%252Fgithub.com%252Febpro%252FJupyterHubUTLNIntro%26urlpath%3Dlab%252Ftree%252FJupyterHubUTLNIntro%252FJupyterHub%2BUTLN.ipynb%26branch%3Ddevelop\"><img  width=\"64\" alt=\"Binder\" src=\"https://binderhub.readthedocs.io/en/latest/_static/logo.png\"/></a>\n",
       "    <td scope=\"row\"><a href=\"https://jovem.univ-tln.fr/hub/spawn?profile=pythonUTLN&next=https%3A%2F%2Fjovem.univ-tln.fr%2Fhub%2Fuser-redirect%2Fgit-pull%3Frepo%3Dhttps%253A%252F%252Fgithub.com%252Febpro%252FJupyterHubUTLNIntro%26urlpath%3Dlab%252Ftree%252Fwork%252Fassignments%252FJupyterHubUTLNIntro%252FJupyterHub%2BUTLN.ipynb%26branch%3Ddevelop\"><img  width=\"64\" alt=\"Université de Toulon - UTLN\" src=\"https://www.univ-tln.fr/squelettes/images/logos/logo-utln.png\"/></a>\n",
       "  </tr>\n",
       "  \n",
       "  <tr>\n",
       "    <th scope=\"row\">Java - Installation</th>\n",
       "    <td scope=\"row\"><a href=\"https://github.com/ebpro/javanotebook-base/blob/develop/01.01_InstallationCompilation.ipynb\"><img  width=\"100\" alt=\"nbviewer\" src=\"https://user-images.githubusercontent.com/2791223/29387450-e5654c72-8294-11e7-95e4-090419520edb.png\"/></a>\n",
       "    <td scope=\"row\"><a href=\"https://mybinder.org/v2/gh/ebpro/JupyterJava/develop?urlpath=git-pull%3Frepo%3Dhttps%253A%252F%252Fgithub.com%252Febpro%252Fjavanotebook-base%26urlpath%3Dlab%252Ftree%252Fjavanotebook-base%252F01.01_InstallationCompilation.ipynb%26branch%3Ddevelop\"><img  width=\"64\" alt=\"Binder\" src=\"https://binderhub.readthedocs.io/en/latest/_static/logo.png\"/></a>\n",
       "    <td scope=\"row\"><a href=\"https://jovem.univ-tln.fr/hub/spawn?profile=javaUTLN&next=https%3A%2F%2Fjovem.univ-tln.fr%2Fhub%2Fuser-redirect%2Fgit-pull%3Frepo%3Dhttps%253A%252F%252Fgithub.com%252Febpro%252Fjavanotebook-base%26urlpath%3Dlab%252Ftree%252Fwork%252Fassignments%252Fjavanotebook-base%252F01.01_InstallationCompilation.ipynb%26branch%3Ddevelop\"><img  width=\"64\" alt=\"Université de Toulon - UTLN\" src=\"https://www.univ-tln.fr/squelettes/images/logos/logo-utln.png\"/></a>\n",
       "  </tr>\n",
       "  \n",
       "  <tr>\n",
       "    <th scope=\"row\">Java - Maven</th>\n",
       "    <td scope=\"row\"><a href=\"https://github.com/ebpro/javanotebook-base/blob/develop/01.02_MavenIntroduction.ipynb\"><img  width=\"100\" alt=\"nbviewer\" src=\"https://user-images.githubusercontent.com/2791223/29387450-e5654c72-8294-11e7-95e4-090419520edb.png\"/></a>\n",
       "    <td scope=\"row\"><a href=\"https://mybinder.org/v2/gh/ebpro/JupyterJava/develop?urlpath=git-pull%3Frepo%3Dhttps%253A%252F%252Fgithub.com%252Febpro%252Fjavanotebook-base%26urlpath%3Dlab%252Ftree%252Fjavanotebook-base%252F01.02_MavenIntroduction.ipynb%26branch%3Ddevelop\"><img  width=\"64\" alt=\"Binder\" src=\"https://binderhub.readthedocs.io/en/latest/_static/logo.png\"/></a>\n",
       "    <td scope=\"row\"><a href=\"https://jovem.univ-tln.fr/hub/spawn?profile=javaUTLN&next=https%3A%2F%2Fjovem.univ-tln.fr%2Fhub%2Fuser-redirect%2Fgit-pull%3Frepo%3Dhttps%253A%252F%252Fgithub.com%252Febpro%252Fjavanotebook-base%26urlpath%3Dlab%252Ftree%252Fwork%252Fassignments%252Fjavanotebook-base%252F01.02_MavenIntroduction.ipynb%26branch%3Ddevelop\"><img  width=\"64\" alt=\"Université de Toulon - UTLN\" src=\"https://www.univ-tln.fr/squelettes/images/logos/logo-utln.png\"/></a>\n",
       "  </tr>\n",
       "  \n",
       "  <tr>\n",
       "    <th scope=\"row\">Java - Après Java 8</th>\n",
       "    <td scope=\"row\"><a href=\"https://github.com/ebpro/javanotebook-base/blob/develop/01.07_After Java 8.ipynb\"><img  width=\"100\" alt=\"nbviewer\" src=\"https://user-images.githubusercontent.com/2791223/29387450-e5654c72-8294-11e7-95e4-090419520edb.png\"/></a>\n",
       "    <td scope=\"row\"><a href=\"https://mybinder.org/v2/gh/ebpro/JupyterJava/develop?urlpath=git-pull%3Frepo%3Dhttps%253A%252F%252Fgithub.com%252Febpro%252Fjavanotebook-base%26urlpath%3Dlab%252Ftree%252Fjavanotebook-base%252F01.07_After%2BJava%2B8.ipynb%26branch%3Ddevelop\"><img  width=\"64\" alt=\"Binder\" src=\"https://binderhub.readthedocs.io/en/latest/_static/logo.png\"/></a>\n",
       "    <td scope=\"row\"><a href=\"https://jovem.univ-tln.fr/hub/spawn?profile=javaUTLN&next=https%3A%2F%2Fjovem.univ-tln.fr%2Fhub%2Fuser-redirect%2Fgit-pull%3Frepo%3Dhttps%253A%252F%252Fgithub.com%252Febpro%252Fjavanotebook-base%26urlpath%3Dlab%252Ftree%252Fwork%252Fassignments%252Fjavanotebook-base%252F01.07_After%2BJava%2B8.ipynb%26branch%3Ddevelop\"><img  width=\"64\" alt=\"Université de Toulon - UTLN\" src=\"https://www.univ-tln.fr/squelettes/images/logos/logo-utln.png\"/></a>\n",
       "  </tr>\n",
       "  \n",
       "  <tr>\n",
       "    <th scope=\"row\">Java - JDBC</th>\n",
       "    <td scope=\"row\"><a href=\"https://github.com/ebpro/javanotebook-jdbc/blob/develop/IntroductionJDBC.ipynb\"><img  width=\"100\" alt=\"nbviewer\" src=\"https://user-images.githubusercontent.com/2791223/29387450-e5654c72-8294-11e7-95e4-090419520edb.png\"/></a>\n",
       "    <td scope=\"row\"><a href=\"https://mybinder.org/v2/gh/ebpro/JupyterJava/develop?urlpath=git-pull%3Frepo%3Dhttps%253A%252F%252Fgithub.com%252Febpro%252Fjavanotebook-jdbc%26urlpath%3Dlab%252Ftree%252Fjavanotebook-jdbc%252FIntroductionJDBC.ipynb%26branch%3Ddevelop\"><img  width=\"64\" alt=\"Binder\" src=\"https://binderhub.readthedocs.io/en/latest/_static/logo.png\"/></a>\n",
       "    <td scope=\"row\"><a href=\"https://jovem.univ-tln.fr/hub/spawn?profile=javaUTLN&next=https%3A%2F%2Fjovem.univ-tln.fr%2Fhub%2Fuser-redirect%2Fgit-pull%3Frepo%3Dhttps%253A%252F%252Fgithub.com%252Febpro%252Fjavanotebook-jdbc%26urlpath%3Dlab%252Ftree%252Fwork%252Fassignments%252Fjavanotebook-jdbc%252FIntroductionJDBC.ipynb%26branch%3Ddevelop\"><img  width=\"64\" alt=\"Université de Toulon - UTLN\" src=\"https://www.univ-tln.fr/squelettes/images/logos/logo-utln.png\"/></a>\n",
       "  </tr>\n",
       "  \n",
       "  <tr>\n",
       "    <th scope=\"row\">Java - REST/JAXRS</th>\n",
       "    <td scope=\"row\"><a href=\"https://github.com/ebpro/javanotebook-jaxrs/blob/develop/jaxrs.ipynb\"><img  width=\"100\" alt=\"nbviewer\" src=\"https://user-images.githubusercontent.com/2791223/29387450-e5654c72-8294-11e7-95e4-090419520edb.png\"/></a>\n",
       "    <td scope=\"row\"><a href=\"https://mybinder.org/v2/gh/ebpro/JupyterJava/develop?urlpath=git-pull%3Frepo%3Dhttps%253A%252F%252Fgithub.com%252Febpro%252Fjavanotebook-jaxrs%26urlpath%3Dlab%252Ftree%252Fjavanotebook-jaxrs%252Fjaxrs.ipynb%26branch%3Ddevelop\"><img  width=\"64\" alt=\"Binder\" src=\"https://binderhub.readthedocs.io/en/latest/_static/logo.png\"/></a>\n",
       "    <td scope=\"row\"><a href=\"https://jovem.univ-tln.fr/hub/spawn?profile=javaUTLN&next=https%3A%2F%2Fjovem.univ-tln.fr%2Fhub%2Fuser-redirect%2Fgit-pull%3Frepo%3Dhttps%253A%252F%252Fgithub.com%252Febpro%252Fjavanotebook-jaxrs%26urlpath%3Dlab%252Ftree%252Fwork%252Fassignments%252Fjavanotebook-jaxrs%252Fjaxrs.ipynb%26branch%3Ddevelop\"><img  width=\"64\" alt=\"Université de Toulon - UTLN\" src=\"https://www.univ-tln.fr/squelettes/images/logos/logo-utln.png\"/></a>\n",
       "  </tr>\n",
       "  \n",
       "  <tr>\n",
       "    <th scope=\"row\">Database - Sandox</th>\n",
       "    <td scope=\"row\"><a href=\"https://github.com/ebpro/SQLNotebookDemo/blob/develop/SQL sandbox.ipynb \"><img  width=\"100\" alt=\"nbviewer\" src=\"https://user-images.githubusercontent.com/2791223/29387450-e5654c72-8294-11e7-95e4-090419520edb.png\"/></a>\n",
       "    <td scope=\"row\"><a href=\"https://mybinder.org/v2/gh/ebpro/JupyterDB/develop?urlpath=git-pull%3Frepo%3Dhttps%253A%252F%252Fgithub.com%252Febpro%252FSQLNotebookDemo%26urlpath%3Dlab%252Ftree%252FSQLNotebookDemo%252FSQL%2Bsandbox.ipynb%2B%26branch%3Ddevelop\"><img  width=\"64\" alt=\"Binder\" src=\"https://binderhub.readthedocs.io/en/latest/_static/logo.png\"/></a>\n",
       "    <td scope=\"row\"><a href=\"https://jovem.univ-tln.fr/hub/spawn?profile=dbUTLN&next=https%3A%2F%2Fjovem.univ-tln.fr%2Fhub%2Fuser-redirect%2Fgit-pull%3Frepo%3Dhttps%253A%252F%252Fgithub.com%252Febpro%252FSQLNotebookDemo%26urlpath%3Dlab%252Ftree%252Fwork%252Fassignments%252FSQLNotebookDemo%252FSQL%2Bsandbox.ipynb%2B%26branch%3Ddevelop\"><img  width=\"64\" alt=\"Université de Toulon - UTLN\" src=\"https://www.univ-tln.fr/squelettes/images/logos/logo-utln.png\"/></a>\n",
       "  </tr>\n",
       " </tbody>\n",
       "<table>"
      ]
     },
     "execution_count": 458,
     "metadata": {},
     "output_type": "execute_result"
    }
   ],
   "source": [
    "%jinja --template MyNotebooks"
   ]
  }
 ],
 "metadata": {
  "kernelspec": {
   "display_name": "Python 3",
   "language": "python",
   "name": "python3"
  },
  "language_info": {
   "codemirror_mode": {
    "name": "ipython",
    "version": 3
   },
   "file_extension": ".py",
   "mimetype": "text/x-python",
   "name": "python",
   "nbconvert_exporter": "python",
   "pygments_lexer": "ipython3",
   "version": "3.8.3"
  }
 },
 "nbformat": 4,
 "nbformat_minor": 4
}
